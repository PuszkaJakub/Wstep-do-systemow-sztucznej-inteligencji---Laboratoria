{
 "cells": [
  {
   "metadata": {},
   "cell_type": "markdown",
   "source": [
    "Wczytaj do tablicy ''numpy'' dane liczbowe umieszczone w pliku wine.data\n",
    "Plik zawiera pomiary własności chemicznych 3 odmian Włoskich win.\n",
    "Format danych:\n",
    "\n",
    "`\n",
    "1,14.23,1.71,2.43,15.6,127,2.8,3.06,.28,2.29,5.64,1.04,3.92,1065\n",
    "2,13.2,1.78,2.14,11.2,100,2.65,2.76,.26,1.28,4.38,1.05,3.4,1050\n",
    "3,13.16,2.36,2.67,18.6,101,2.8,3.24,.3,2.81,5.68,1.03,3.17,1185\n",
    "...\n",
    "`\n",
    "\n",
    "Każda linia zawiera 14 wartości oddzielonych przecinkami określających wartości pomiaru dla pojedynczego wina.\n",
    "\n",
    "Pierwsza zmienna to odmiana wina (wartość 1, 2 lub 3) pozostałe to zmienne ciągłe (wyniki pomiarów):\n",
    "\n",
    "`\n",
    "1 Odmiana (1,2,3),  \n",
    "2 Alcohol,  \n",
    "3 Malic acid,  \n",
    "4 Ash,  \n",
    "5 Alcalinity of ash,  \n",
    "6 Magnesium,  \n",
    "7 Total phenols, \n",
    "8 Flavanoids,  \n",
    "9 Nonflavanoid phenols,  \n",
    "10 Proanthocyanins,  \n",
    "11 Color intensity,  \n",
    "12 Hue,  \n",
    "13 OD280/OD315 of diluted wines, \n",
    "14 Proline \n",
    "`"
   ],
   "id": "59ace0727905d7c8"
  },
  {
   "metadata": {
    "ExecuteTime": {
     "end_time": "2024-04-22T20:31:37.653884Z",
     "start_time": "2024-04-22T20:31:37.317819Z"
    }
   },
   "cell_type": "code",
   "source": [
    "import matplotlib.pyplot as plt\n",
    "import numpy as np\n",
    "\n",
    "wines_data_path = \"wines/wine.data\"\n",
    "\n",
    "wines_data = open(wines_data_path)\n",
    "\n",
    "with open(wines_data_path) as wines_data:\n",
    "    wines = []\n",
    "    for line in wines_data:\n",
    "        values = line.strip().split(',')\n",
    "        wines.append([float(value) for value in values])\n",
    "\n",
    "wines = np.array(wines)\n",
    "\n",
    "# for i in wines:\n",
    "#     print(i)\n",
    "\n",
    "wine_parameters = [\"Odmiana\", \"Alcohol\", \"Malic acid\", \"Ash\", \"Alcalinity of ash\", \"Magnesium\", \"Total phenols\", \"Flavanoids\", \"Nonflavanoid phenols\", \"Proanthocyanins\", \"Color intensity\", \"Hue\",\"OD280/OD315 of diluted wines\", \"Proline\"]"
   ],
   "id": "initial_id",
   "outputs": [],
   "execution_count": 1
  },
  {
   "metadata": {},
   "cell_type": "markdown",
   "source": "Wyznacz wartość minimalną, maksymalną, średnią, medianę i odchylenie standardowe dla każdej z 14 zmiennych.",
   "id": "45226a51d1448d2"
  },
  {
   "metadata": {
    "ExecuteTime": {
     "end_time": "2024-04-22T20:31:42.495688Z",
     "start_time": "2024-04-22T20:31:42.490539Z"
    }
   },
   "cell_type": "code",
   "source": [
    "for i, j in enumerate(wine_parameters):\n",
    "    print(f\"Parameter {j}:\\nmin value: {np.min(wines[:, i]):.4f}\\nmax value: {np.max(wines[:, i]):.4f}\\naverage value: {np.mean(wines[:, i]):.4f}\\nmedian value: {np.median(wines[:, i]):.4f}\\nstandard deviation: {np.std(wines[:, i]):.4f}\\n\")"
   ],
   "id": "2ecee72bc2e2ee75",
   "outputs": [
    {
     "name": "stdout",
     "output_type": "stream",
     "text": [
      "Parameter Odmiana:\n",
      "min value: 1.0000\n",
      "max value: 3.0000\n",
      "average value: 1.9382\n",
      "median value: 2.0000\n",
      "standard deviation: 0.7729\n",
      "\n",
      "Parameter Alcohol:\n",
      "min value: 11.0300\n",
      "max value: 14.8300\n",
      "average value: 13.0006\n",
      "median value: 13.0500\n",
      "standard deviation: 0.8095\n",
      "\n",
      "Parameter Malic acid:\n",
      "min value: 0.7400\n",
      "max value: 5.8000\n",
      "average value: 2.3363\n",
      "median value: 1.8650\n",
      "standard deviation: 1.1140\n",
      "\n",
      "Parameter Ash:\n",
      "min value: 1.3600\n",
      "max value: 3.2300\n",
      "average value: 2.3665\n",
      "median value: 2.3600\n",
      "standard deviation: 0.2736\n",
      "\n",
      "Parameter Alcalinity of ash:\n",
      "min value: 10.6000\n",
      "max value: 30.0000\n",
      "average value: 19.4949\n",
      "median value: 19.5000\n",
      "standard deviation: 3.3302\n",
      "\n",
      "Parameter Magnesium:\n",
      "min value: 70.0000\n",
      "max value: 162.0000\n",
      "average value: 99.7416\n",
      "median value: 98.0000\n",
      "standard deviation: 14.2423\n",
      "\n",
      "Parameter Total phenols:\n",
      "min value: 0.9800\n",
      "max value: 3.8800\n",
      "average value: 2.2951\n",
      "median value: 2.3550\n",
      "standard deviation: 0.6241\n",
      "\n",
      "Parameter Flavanoids:\n",
      "min value: 0.3400\n",
      "max value: 5.0800\n",
      "average value: 2.0293\n",
      "median value: 2.1350\n",
      "standard deviation: 0.9960\n",
      "\n",
      "Parameter Nonflavanoid phenols:\n",
      "min value: 0.1300\n",
      "max value: 0.6600\n",
      "average value: 0.3619\n",
      "median value: 0.3400\n",
      "standard deviation: 0.1241\n",
      "\n",
      "Parameter Proanthocyanins:\n",
      "min value: 0.4100\n",
      "max value: 3.5800\n",
      "average value: 1.5909\n",
      "median value: 1.5550\n",
      "standard deviation: 0.5707\n",
      "\n",
      "Parameter Color intensity:\n",
      "min value: 1.2800\n",
      "max value: 13.0000\n",
      "average value: 5.0581\n",
      "median value: 4.6900\n",
      "standard deviation: 2.3118\n",
      "\n",
      "Parameter Hue:\n",
      "min value: 0.4800\n",
      "max value: 1.7100\n",
      "average value: 0.9574\n",
      "median value: 0.9650\n",
      "standard deviation: 0.2279\n",
      "\n",
      "Parameter OD280/OD315 of diluted wines:\n",
      "min value: 1.2700\n",
      "max value: 4.0000\n",
      "average value: 2.6117\n",
      "median value: 2.7800\n",
      "standard deviation: 0.7080\n",
      "\n",
      "Parameter Proline:\n",
      "min value: 278.0000\n",
      "max value: 1680.0000\n",
      "average value: 746.8933\n",
      "median value: 673.5000\n",
      "standard deviation: 314.0217\n",
      "\n"
     ]
    }
   ],
   "execution_count": 2
  },
  {
   "metadata": {},
   "cell_type": "markdown",
   "source": "Wyznacz wartości średnie wszystkich zmiennych ciągłych dla win odmiany 1.",
   "id": "878e67a93d59938c"
  },
  {
   "metadata": {
    "ExecuteTime": {
     "end_time": "2024-04-22T20:32:05.031143Z",
     "start_time": "2024-04-22T20:32:05.026640Z"
    }
   },
   "cell_type": "code",
   "source": [
    "temp = [wine for wine in wines if wine[0] == 1]\n",
    "temp = np.array(temp)\n",
    "\n",
    "for i, j in enumerate(wine_parameters):\n",
    "    if not i == 0:\n",
    "        print(f\"Parameter {j}\\nAverage value: {np.mean(temp[:, i]):.4f}\\n\")"
   ],
   "id": "c862f68ff491bba8",
   "outputs": [
    {
     "name": "stdout",
     "output_type": "stream",
     "text": [
      "Parameter Alcohol\n",
      "Average value: 13.7447\n",
      "\n",
      "Parameter Malic acid\n",
      "Average value: 2.0107\n",
      "\n",
      "Parameter Ash\n",
      "Average value: 2.4556\n",
      "\n",
      "Parameter Alcalinity of ash\n",
      "Average value: 17.0373\n",
      "\n",
      "Parameter Magnesium\n",
      "Average value: 106.3390\n",
      "\n",
      "Parameter Total phenols\n",
      "Average value: 2.8402\n",
      "\n",
      "Parameter Flavanoids\n",
      "Average value: 2.9824\n",
      "\n",
      "Parameter Nonflavanoid phenols\n",
      "Average value: 0.2900\n",
      "\n",
      "Parameter Proanthocyanins\n",
      "Average value: 1.8993\n",
      "\n",
      "Parameter Color intensity\n",
      "Average value: 5.5283\n",
      "\n",
      "Parameter Hue\n",
      "Average value: 1.0620\n",
      "\n",
      "Parameter OD280/OD315 of diluted wines\n",
      "Average value: 3.1578\n",
      "\n",
      "Parameter Proline\n",
      "Average value: 1115.7119\n",
      "\n"
     ]
    }
   ],
   "execution_count": 3
  },
  {
   "metadata": {},
   "cell_type": "markdown",
   "source": "Wyrysuj histogram wybranej zmiennej o charakterze ciągłym dla całego zbioru danych",
   "id": "7b10f99691a7a3d7"
  },
  {
   "metadata": {},
   "cell_type": "code",
   "outputs": [],
   "execution_count": null,
   "source": "",
   "id": "b8a695b2843a66b7"
  },
  {
   "metadata": {},
   "cell_type": "markdown",
   "source": "Wyrysuj histogramy wybranej zmiennej ciągłej osobno dla każdej z 3 odmian win lub w postaci pojedynczego histogramu, gdzie każda odmiana oznaczona jest innym kolorem.",
   "id": "b26f11a20f02145e"
  },
  {
   "metadata": {},
   "cell_type": "code",
   "outputs": [],
   "execution_count": null,
   "source": "",
   "id": "4998b6229fd281da"
  },
  {
   "metadata": {},
   "cell_type": "markdown",
   "source": "Wyznacz liczebność win każdej z 3 odmian. Wynik przedstaw graficznie za pomocą odpowiedniego wykresu (np. słupkowego lub kołowego).",
   "id": "1818dbd078c03ef4"
  },
  {
   "metadata": {},
   "cell_type": "markdown",
   "source": "",
   "id": "41c6621b4bb4d79a"
  },
  {
   "metadata": {},
   "cell_type": "code",
   "outputs": [],
   "execution_count": null,
   "source": "",
   "id": "6ad2c41a2dc770df"
  }
 ],
 "metadata": {
  "kernelspec": {
   "display_name": "Python 3",
   "language": "python",
   "name": "python3"
  },
  "language_info": {
   "codemirror_mode": {
    "name": "ipython",
    "version": 2
   },
   "file_extension": ".py",
   "mimetype": "text/x-python",
   "name": "python",
   "nbconvert_exporter": "python",
   "pygments_lexer": "ipython2",
   "version": "2.7.6"
  }
 },
 "nbformat": 4,
 "nbformat_minor": 5
}
